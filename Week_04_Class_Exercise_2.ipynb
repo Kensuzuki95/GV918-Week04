{
  "nbformat": 4,
  "nbformat_minor": 0,
  "metadata": {
    "colab": {
      "name": "Week 04 Class - Exercise 2.ipynb",
      "provenance": [],
      "collapsed_sections": [],
      "include_colab_link": true
    },
    "kernelspec": {
      "name": "python3",
      "display_name": "Python 3"
    }
  },
  "cells": [
    {
      "cell_type": "markdown",
      "metadata": {
        "id": "view-in-github",
        "colab_type": "text"
      },
      "source": [
        "<a href=\"https://colab.research.google.com/github/Kensuzuki95/GV918-Week04/blob/week-4/Week_04_Class_Exercise_2.ipynb\" target=\"_parent\"><img src=\"https://colab.research.google.com/assets/colab-badge.svg\" alt=\"Open In Colab\"/></a>"
      ]
    },
    {
      "cell_type": "markdown",
      "metadata": {
        "id": "zYZzWQ0GG1t1"
      },
      "source": [
        "# Description\n",
        "\n",
        "In this exercise, we will continue the analysis of UK Political Data, which I presented in the lecture. We have already conducted merging Election and Brexit referendum data. We will work with additional datasets, coming from: \n",
        "\n",
        "https://commonslibrary.parliament.uk/constituency-dashboard/\n",
        "\n",
        "In particular, we will use the following data:\n",
        "\n",
        "- Population\n",
        "- Unemployment\n",
        "- Housing price"
      ]
    },
    {
      "cell_type": "markdown",
      "metadata": {
        "id": "yDSMvqBtf1p8"
      },
      "source": [
        "# Clone a data repository\n",
        "\n",
        "As we will use the data for several weeks, I decided to create a separate repository for the data. We can clone the reposiotory to Colab working directory to start working on the data."
      ]
    },
    {
      "cell_type": "code",
      "metadata": {
        "id": "VPyuaghcgKI4",
        "outputId": "36931dd2-bdac-4741-9e56-ac5eda1ed67e",
        "colab": {
          "base_uri": "https://localhost:8080/",
          "height": 119
        }
      },
      "source": [
        "!git clone  https://github.com/University-of-Essex-Dept-of-Government/GV918-UK-politics-data"
      ],
      "execution_count": 8,
      "outputs": [
        {
          "output_type": "stream",
          "text": [
            "Cloning into 'GV918-UK-politics-data'...\n",
            "remote: Enumerating objects: 12, done.\u001b[K\n",
            "remote: Counting objects: 100% (12/12), done.\u001b[K\n",
            "remote: Compressing objects: 100% (11/11), done.\u001b[K\n",
            "remote: Total 12 (delta 0), reused 0 (delta 0), pack-reused 0\u001b[K\n",
            "Unpacking objects: 100% (12/12), done.\n"
          ],
          "name": "stdout"
        }
      ]
    },
    {
      "cell_type": "markdown",
      "metadata": {
        "id": "UxZZK0qlH2nA"
      },
      "source": [
        "## Rerun the code in the lecture"
      ]
    },
    {
      "cell_type": "code",
      "metadata": {
        "id": "BNnah5uCH2PQ"
      },
      "source": [
        "import pandas as pd\n",
        "import numpy as np\n"
      ],
      "execution_count": 9,
      "outputs": []
    },
    {
      "cell_type": "code",
      "metadata": {
        "id": "ctMYGoWPpVmn",
        "outputId": "30b24600-4f36-4944-b622-3da139769461",
        "colab": {
          "base_uri": "https://localhost:8080/",
          "height": 34
        }
      },
      "source": [
        "from google.colab import drive\n",
        "drive.mount('/content/drive')"
      ],
      "execution_count": 10,
      "outputs": [
        {
          "output_type": "stream",
          "text": [
            "Drive already mounted at /content/drive; to attempt to forcibly remount, call drive.mount(\"/content/drive\", force_remount=True).\n"
          ],
          "name": "stdout"
        }
      ]
    },
    {
      "cell_type": "code",
      "metadata": {
        "id": "xK3OoYQjI5eB"
      },
      "source": [
        "\n",
        "df_elec = pd.read_excel(\"/content/GV918-UK-politics-data/Data/general-election-results-2019.xlsx\", sheet_name = 'voting-summary')\n",
        "\n",
        "df_brexit = pd.read_csv(\"/content/GV918-UK-politics-data/Data/brexit-vote.csv\")\n",
        "\n",
        "df_brexit.rename({'PCON11CD':'ons_id'}, axis = 1, inplace=True)\n",
        "\n",
        "\"\"\"## Select columns\"\"\"\n",
        "\n",
        "df_brexit.rename({'Figure to use':'leave_pct'}, axis = 1, inplace=True)\n",
        "\n",
        "df_brexit_sub = df_brexit[['ons_id', 'leave_pct']]\n",
        "\n",
        "df_elec['con_pct'] = df_elec['con'] / df_elec['valid_votes']\n",
        "df_elec['lab_pct'] = df_elec['lab'] / df_elec['valid_votes']\n",
        "\n",
        "df_elec.head()\n",
        "\n",
        "\"\"\"## Merge\"\"\"\n",
        "# use \"left\" merge\n",
        "\n",
        "df_merge = df_elec.merge(df_brexit_sub, how='left', on = \"ons_id\")\n"
      ],
      "execution_count": 11,
      "outputs": []
    },
    {
      "cell_type": "markdown",
      "metadata": {
        "id": "hZ4584uuKTOo"
      },
      "source": [
        "# Unemployment\n",
        "\n",
        "What we want to get from this file is the unemployment rate (or rate of unemployment claims) in November 2019, right before the election. "
      ]
    },
    {
      "cell_type": "markdown",
      "metadata": {
        "id": "KHJSJPqIKWKd"
      },
      "source": [
        "## Read the file"
      ]
    },
    {
      "cell_type": "code",
      "metadata": {
        "id": "3LptEE8nKaod",
        "outputId": "4c32ce4c-cedc-484c-da36-63a7b567b165",
        "colab": {
          "base_uri": "https://localhost:8080/",
          "height": 258
        }
      },
      "source": [
        "df_unemp = pd.read_excel('/content/GV918-UK-politics-data/Data/Unemployment.xlsx', sheet_name = \"Data\")\n",
        "df_unemp.head()"
      ],
      "execution_count": 24,
      "outputs": [
        {
          "output_type": "execute_result",
          "data": {
            "text/html": [
              "<div>\n",
              "<style scoped>\n",
              "    .dataframe tbody tr th:only-of-type {\n",
              "        vertical-align: middle;\n",
              "    }\n",
              "\n",
              "    .dataframe tbody tr th {\n",
              "        vertical-align: top;\n",
              "    }\n",
              "\n",
              "    .dataframe thead th {\n",
              "        text-align: right;\n",
              "    }\n",
              "</style>\n",
              "<table border=\"1\" class=\"dataframe\">\n",
              "  <thead>\n",
              "    <tr style=\"text-align: right;\">\n",
              "      <th></th>\n",
              "      <th>ONSConstID</th>\n",
              "      <th>ConstituencyName</th>\n",
              "      <th>RegionID</th>\n",
              "      <th>RegionName</th>\n",
              "      <th>CountryID</th>\n",
              "      <th>CountryName</th>\n",
              "      <th>DateThisUpdate</th>\n",
              "      <th>DateOfDataset</th>\n",
              "      <th>UnempConstNumber</th>\n",
              "      <th>UnempConstRate</th>\n",
              "      <th>UnempRegionNumber</th>\n",
              "      <th>UnempRegionRate</th>\n",
              "      <th>UnempCountryNumber</th>\n",
              "      <th>UnempCountryRate</th>\n",
              "      <th>Unnamed: 14</th>\n",
              "    </tr>\n",
              "  </thead>\n",
              "  <tbody>\n",
              "    <tr>\n",
              "      <th>0</th>\n",
              "      <td>E14000554</td>\n",
              "      <td>Berwick-upon-Tweed</td>\n",
              "      <td>E15000001</td>\n",
              "      <td>North East</td>\n",
              "      <td>K02000001</td>\n",
              "      <td>UK</td>\n",
              "      <td>2020-10-13</td>\n",
              "      <td>2010-05-01</td>\n",
              "      <td>1216</td>\n",
              "      <td>0.025744</td>\n",
              "      <td>80105</td>\n",
              "      <td>0.04769</td>\n",
              "      <td>1502155</td>\n",
              "      <td>0.036923</td>\n",
              "      <td>0</td>\n",
              "    </tr>\n",
              "    <tr>\n",
              "      <th>1</th>\n",
              "      <td>E14000569</td>\n",
              "      <td>Bishop Auckland</td>\n",
              "      <td>E15000001</td>\n",
              "      <td>North East</td>\n",
              "      <td>K02000001</td>\n",
              "      <td>UK</td>\n",
              "      <td>2020-10-13</td>\n",
              "      <td>2010-05-01</td>\n",
              "      <td>2361</td>\n",
              "      <td>0.042521</td>\n",
              "      <td>80105</td>\n",
              "      <td>0.04769</td>\n",
              "      <td>1502155</td>\n",
              "      <td>0.036923</td>\n",
              "      <td>0</td>\n",
              "    </tr>\n",
              "    <tr>\n",
              "      <th>2</th>\n",
              "      <td>E14000574</td>\n",
              "      <td>Blaydon</td>\n",
              "      <td>E15000001</td>\n",
              "      <td>North East</td>\n",
              "      <td>K02000001</td>\n",
              "      <td>UK</td>\n",
              "      <td>2020-10-13</td>\n",
              "      <td>2010-05-01</td>\n",
              "      <td>1909</td>\n",
              "      <td>0.034575</td>\n",
              "      <td>80105</td>\n",
              "      <td>0.04769</td>\n",
              "      <td>1502155</td>\n",
              "      <td>0.036923</td>\n",
              "      <td>0</td>\n",
              "    </tr>\n",
              "    <tr>\n",
              "      <th>3</th>\n",
              "      <td>E14000575</td>\n",
              "      <td>Blyth Valley</td>\n",
              "      <td>E15000001</td>\n",
              "      <td>North East</td>\n",
              "      <td>K02000001</td>\n",
              "      <td>UK</td>\n",
              "      <td>2020-10-13</td>\n",
              "      <td>2010-05-01</td>\n",
              "      <td>2248</td>\n",
              "      <td>0.042177</td>\n",
              "      <td>80105</td>\n",
              "      <td>0.04769</td>\n",
              "      <td>1502155</td>\n",
              "      <td>0.036923</td>\n",
              "      <td>0</td>\n",
              "    </tr>\n",
              "    <tr>\n",
              "      <th>4</th>\n",
              "      <td>E14000641</td>\n",
              "      <td>City of Durham</td>\n",
              "      <td>E15000001</td>\n",
              "      <td>North East</td>\n",
              "      <td>K02000001</td>\n",
              "      <td>UK</td>\n",
              "      <td>2020-10-13</td>\n",
              "      <td>2010-05-01</td>\n",
              "      <td>1590</td>\n",
              "      <td>0.024718</td>\n",
              "      <td>80105</td>\n",
              "      <td>0.04769</td>\n",
              "      <td>1502155</td>\n",
              "      <td>0.036923</td>\n",
              "      <td>0</td>\n",
              "    </tr>\n",
              "  </tbody>\n",
              "</table>\n",
              "</div>"
            ],
            "text/plain": [
              "  ONSConstID    ConstituencyName  ... UnempCountryRate Unnamed: 14\n",
              "0  E14000554  Berwick-upon-Tweed  ...         0.036923           0\n",
              "1  E14000569     Bishop Auckland  ...         0.036923           0\n",
              "2  E14000574             Blaydon  ...         0.036923           0\n",
              "3  E14000575        Blyth Valley  ...         0.036923           0\n",
              "4  E14000641      City of Durham  ...         0.036923           0\n",
              "\n",
              "[5 rows x 15 columns]"
            ]
          },
          "metadata": {
            "tags": []
          },
          "execution_count": 24
        }
      ]
    },
    {
      "cell_type": "code",
      "metadata": {
        "id": "T1xAM1BGs9Gw",
        "outputId": "6a9b8b96-2879-4f40-ffc3-e3d85cf24732",
        "colab": {
          "base_uri": "https://localhost:8080/",
          "height": 34
        }
      },
      "source": [
        "df_unemp.shape"
      ],
      "execution_count": 18,
      "outputs": [
        {
          "output_type": "execute_result",
          "data": {
            "text/plain": [
              "(81250, 15)"
            ]
          },
          "metadata": {
            "tags": []
          },
          "execution_count": 18
        }
      ]
    },
    {
      "cell_type": "code",
      "metadata": {
        "id": "YXeNjnNgtWJZ",
        "outputId": "c338105e-4522-4105-ef74-02586b91a70c",
        "colab": {
          "base_uri": "https://localhost:8080/",
          "height": 102
        }
      },
      "source": [
        "df_unemp.columns"
      ],
      "execution_count": 19,
      "outputs": [
        {
          "output_type": "execute_result",
          "data": {
            "text/plain": [
              "Index(['ONSConstID', 'ConstituencyName', 'RegionID', 'RegionName', 'CountryID',\n",
              "       'CountryName', 'DateThisUpdate', 'DateOfDataset', 'UnempConstNumber',\n",
              "       'UnempConstRate', 'UnempRegionNumber', 'UnempRegionRate',\n",
              "       'UnempCountryNumber', 'UnempCountryRate', 'Unnamed: 14'],\n",
              "      dtype='object')"
            ]
          },
          "metadata": {
            "tags": []
          },
          "execution_count": 19
        }
      ]
    },
    {
      "cell_type": "code",
      "metadata": {
        "id": "7gv3VRV_teJ0",
        "outputId": "b356d6bd-45f6-4585-dec6-6c60bee4eeb3",
        "colab": {
          "base_uri": "https://localhost:8080/",
          "height": 238
        }
      },
      "source": [
        "df_unemp.value_counts('DateOfDataset').sort_index()"
      ],
      "execution_count": 26,
      "outputs": [
        {
          "output_type": "execute_result",
          "data": {
            "text/plain": [
              "DateOfDataset\n",
              "2010-05-01    650\n",
              "2010-06-01    650\n",
              "2010-07-01    650\n",
              "2010-08-01    650\n",
              "2010-09-01    650\n",
              "             ... \n",
              "2020-05-01    650\n",
              "2020-06-01    650\n",
              "2020-07-01    650\n",
              "2020-08-01    650\n",
              "2020-09-01    650\n",
              "Length: 135, dtype: int64"
            ]
          },
          "metadata": {
            "tags": []
          },
          "execution_count": 26
        }
      ]
    },
    {
      "cell_type": "markdown",
      "metadata": {
        "id": "x6FQtNygKb43"
      },
      "source": [
        "## Data wrangling and merge\n",
        "\n",
        "- For this data, what we need to do is relatively simple\n",
        "- The steps are:\n",
        "  - Select the rows for the nearby month (Nov 2019)\n",
        "  - Keep the columns for ID vars and unemployment rate\n",
        "  - Merge with the main dataset"
      ]
    },
    {
      "cell_type": "code",
      "metadata": {
        "id": "y4HXJ2XRjh58",
        "outputId": "15d7e827-28fe-4d6b-d557-50ded8ff80a0",
        "colab": {
          "base_uri": "https://localhost:8080/",
          "height": 164
        }
      },
      "source": [
        "df_unemp[dfunemp['DateofDataset'] == \"2020-11-01\"][['ONSConstID', 'UnempConstRate']"
      ],
      "execution_count": 27,
      "outputs": [
        {
          "output_type": "error",
          "ename": "SyntaxError",
          "evalue": "ignored",
          "traceback": [
            "\u001b[0;36m  File \u001b[0;32m\"<ipython-input-27-751f7908bc93>\"\u001b[0;36m, line \u001b[0;32m1\u001b[0m\n\u001b[0;31m    df_unemp[dfunemp['DateofDataset'] == \"2020-11-01\"][['ONSConstID', 'UnempConstRate']\u001b[0m\n\u001b[0m                                                                                       ^\u001b[0m\n\u001b[0;31mSyntaxError\u001b[0m\u001b[0;31m:\u001b[0m unexpected EOF while parsing\n"
          ]
        }
      ]
    },
    {
      "cell_type": "code",
      "metadata": {
        "id": "xqHYKVrxvhze",
        "outputId": "fee5d131-eb88-4353-9e1c-f699d4a6728b",
        "colab": {
          "base_uri": "https://localhost:8080/",
          "height": 164
        }
      },
      "source": [
        "df_merge.merge(df_unemp_sub,left_on = 'ons-id', right_on = 'ONSConstID')"
      ],
      "execution_count": 28,
      "outputs": [
        {
          "output_type": "error",
          "ename": "NameError",
          "evalue": "ignored",
          "traceback": [
            "\u001b[0;31m---------------------------------------------------------------------------\u001b[0m",
            "\u001b[0;31mNameError\u001b[0m                                 Traceback (most recent call last)",
            "\u001b[0;32m<ipython-input-28-b6923e817f39>\u001b[0m in \u001b[0;36m<module>\u001b[0;34m()\u001b[0m\n\u001b[0;32m----> 1\u001b[0;31m \u001b[0mdf_merge\u001b[0m\u001b[0;34m.\u001b[0m\u001b[0mmerge\u001b[0m\u001b[0;34m(\u001b[0m\u001b[0mdf_unemp_sub\u001b[0m\u001b[0;34m,\u001b[0m\u001b[0mleft_on\u001b[0m \u001b[0;34m=\u001b[0m \u001b[0;34m'ons-id'\u001b[0m\u001b[0;34m,\u001b[0m \u001b[0mright_on\u001b[0m \u001b[0;34m=\u001b[0m \u001b[0;34m'ONSConstID'\u001b[0m\u001b[0;34m)\u001b[0m\u001b[0;34m\u001b[0m\u001b[0;34m\u001b[0m\u001b[0m\n\u001b[0m",
            "\u001b[0;31mNameError\u001b[0m: name 'df_unemp_sub' is not defined"
          ]
        }
      ]
    },
    {
      "cell_type": "markdown",
      "metadata": {
        "id": "nSpLyNT9TBla"
      },
      "source": [
        "# Housing price dataset\n",
        "\n",
        "We conduct essentially the same. Extract the most recent data in housing price, and merge it with the main dataframe."
      ]
    },
    {
      "cell_type": "markdown",
      "metadata": {
        "id": "wfg08XwOTYb4"
      },
      "source": [
        "## Read the file"
      ]
    },
    {
      "cell_type": "code",
      "metadata": {
        "id": "W36zKvQgTbMB"
      },
      "source": [
        "df_housing = pd.read_excel(\"/content/GV918-UK-politics-data/Data/House-prices.xlsx\", \n",
        "                           sheet_name=\"Constituency data table\")"
      ],
      "execution_count": 13,
      "outputs": []
    },
    {
      "cell_type": "markdown",
      "metadata": {
        "id": "KpWv8FScVPbx"
      },
      "source": [
        "## Data wrangling and merge\n",
        "\n",
        "- First let's findout the data frequency. "
      ]
    },
    {
      "cell_type": "code",
      "metadata": {
        "id": "41xA-VIHjlJS",
        "outputId": "c5760909-2c61-41b9-8760-b275d6010d48",
        "colab": {
          "base_uri": "https://localhost:8080/",
          "height": 238
        }
      },
      "source": [
        "df_housing.value_counts('DateOfDataset').sort_index()"
      ],
      "execution_count": 30,
      "outputs": [
        {
          "output_type": "execute_result",
          "data": {
            "text/plain": [
              "DateOfDataset\n",
              "1995-12-31    650\n",
              "1996-03-31    650\n",
              "1996-06-30    650\n",
              "1996-09-30    650\n",
              "1996-12-31    650\n",
              "             ... \n",
              "2018-12-01    650\n",
              "2019-03-01    650\n",
              "2019-06-01    650\n",
              "2019-09-01    650\n",
              "2019-12-01    650\n",
              "Length: 97, dtype: int64"
            ]
          },
          "metadata": {
            "tags": []
          },
          "execution_count": 30
        }
      ]
    },
    {
      "cell_type": "markdown",
      "metadata": {
        "id": "nb1efv5UVYKz"
      },
      "source": [
        "- Select the rows from Sep 2019\n",
        "- We use the price change at the constituency level"
      ]
    },
    {
      "cell_type": "code",
      "metadata": {
        "id": "oYIzM31SjmmO"
      },
      "source": [
        ""
      ],
      "execution_count": 13,
      "outputs": []
    },
    {
      "cell_type": "markdown",
      "metadata": {
        "id": "D-UXMFmwIxR7"
      },
      "source": [
        "## Population dataset\n",
        "\n",
        "What we would like to extract from this dataset is the percentage of elderly (over 65). We need to do some data wrangling."
      ]
    },
    {
      "cell_type": "markdown",
      "metadata": {
        "id": "AQHXEryUKIC8"
      },
      "source": [
        "## Read the dataset"
      ]
    },
    {
      "cell_type": "code",
      "metadata": {
        "id": "_Fr_FcprIwt_"
      },
      "source": [
        "df_pop = pd.read_excel(\"/content/GV918-UK-politics-data/Data/population-by-age.xlsx\", \n",
        "                       sheet_name = 'Age by year data')"
      ],
      "execution_count": 14,
      "outputs": []
    },
    {
      "cell_type": "code",
      "metadata": {
        "id": "6jOpfq7IxbxY",
        "outputId": "5876580b-8748-49f7-f981-ccfb55c3d72a",
        "colab": {
          "base_uri": "https://localhost:8080/",
          "height": 204
        }
      },
      "source": [
        "df_pop.head()"
      ],
      "execution_count": 31,
      "outputs": [
        {
          "output_type": "execute_result",
          "data": {
            "text/html": [
              "<div>\n",
              "<style scoped>\n",
              "    .dataframe tbody tr th:only-of-type {\n",
              "        vertical-align: middle;\n",
              "    }\n",
              "\n",
              "    .dataframe tbody tr th {\n",
              "        vertical-align: top;\n",
              "    }\n",
              "\n",
              "    .dataframe thead th {\n",
              "        text-align: right;\n",
              "    }\n",
              "</style>\n",
              "<table border=\"1\" class=\"dataframe\">\n",
              "  <thead>\n",
              "    <tr style=\"text-align: right;\">\n",
              "      <th></th>\n",
              "      <th>PCON11CD</th>\n",
              "      <th>PCON11NM</th>\n",
              "      <th>RegionID</th>\n",
              "      <th>RegionNM</th>\n",
              "      <th>All Ages</th>\n",
              "      <th>Age_year</th>\n",
              "      <th>Age_pop</th>\n",
              "      <th>Age_percent</th>\n",
              "      <th>Reg_percent</th>\n",
              "      <th>UK_percent</th>\n",
              "    </tr>\n",
              "  </thead>\n",
              "  <tbody>\n",
              "    <tr>\n",
              "      <th>0</th>\n",
              "      <td>E14000538</td>\n",
              "      <td>Aylesbury</td>\n",
              "      <td>E12000008</td>\n",
              "      <td>South East</td>\n",
              "      <td>125629</td>\n",
              "      <td>0</td>\n",
              "      <td>1601</td>\n",
              "      <td>0.012744</td>\n",
              "      <td>0.010438</td>\n",
              "      <td>0.010822</td>\n",
              "    </tr>\n",
              "    <tr>\n",
              "      <th>1</th>\n",
              "      <td>E14000538</td>\n",
              "      <td>Aylesbury</td>\n",
              "      <td>E12000008</td>\n",
              "      <td>South East</td>\n",
              "      <td>125629</td>\n",
              "      <td>1</td>\n",
              "      <td>1664</td>\n",
              "      <td>0.013245</td>\n",
              "      <td>0.010968</td>\n",
              "      <td>0.011266</td>\n",
              "    </tr>\n",
              "    <tr>\n",
              "      <th>2</th>\n",
              "      <td>E14000538</td>\n",
              "      <td>Aylesbury</td>\n",
              "      <td>E12000008</td>\n",
              "      <td>South East</td>\n",
              "      <td>125629</td>\n",
              "      <td>2</td>\n",
              "      <td>1772</td>\n",
              "      <td>0.014105</td>\n",
              "      <td>0.011386</td>\n",
              "      <td>0.011637</td>\n",
              "    </tr>\n",
              "    <tr>\n",
              "      <th>3</th>\n",
              "      <td>E14000538</td>\n",
              "      <td>Aylesbury</td>\n",
              "      <td>E12000008</td>\n",
              "      <td>South East</td>\n",
              "      <td>125629</td>\n",
              "      <td>3</td>\n",
              "      <td>1775</td>\n",
              "      <td>0.014129</td>\n",
              "      <td>0.011892</td>\n",
              "      <td>0.012012</td>\n",
              "    </tr>\n",
              "    <tr>\n",
              "      <th>4</th>\n",
              "      <td>E14000538</td>\n",
              "      <td>Aylesbury</td>\n",
              "      <td>E12000008</td>\n",
              "      <td>South East</td>\n",
              "      <td>125629</td>\n",
              "      <td>4</td>\n",
              "      <td>1793</td>\n",
              "      <td>0.014272</td>\n",
              "      <td>0.012033</td>\n",
              "      <td>0.012009</td>\n",
              "    </tr>\n",
              "  </tbody>\n",
              "</table>\n",
              "</div>"
            ],
            "text/plain": [
              "    PCON11CD   PCON11NM   RegionID  ... Age_percent  Reg_percent  UK_percent\n",
              "0  E14000538  Aylesbury  E12000008  ...    0.012744     0.010438    0.010822\n",
              "1  E14000538  Aylesbury  E12000008  ...    0.013245     0.010968    0.011266\n",
              "2  E14000538  Aylesbury  E12000008  ...    0.014105     0.011386    0.011637\n",
              "3  E14000538  Aylesbury  E12000008  ...    0.014129     0.011892    0.012012\n",
              "4  E14000538  Aylesbury  E12000008  ...    0.014272     0.012033    0.012009\n",
              "\n",
              "[5 rows x 10 columns]"
            ]
          },
          "metadata": {
            "tags": []
          },
          "execution_count": 31
        }
      ]
    },
    {
      "cell_type": "markdown",
      "metadata": {
        "id": "AlF7Wwe8KLWQ"
      },
      "source": [
        "## Data wrangling"
      ]
    },
    {
      "cell_type": "markdown",
      "metadata": {
        "id": "bbHvSAXHJU4h"
      },
      "source": [
        "- This data has so many rows, but suppose that what we want to know is the population over the age of 65.\n",
        "\n",
        "- We will clean the data using the following steps\n",
        "  - Keep rows of year over 65\n",
        "  - Aggregate the percentage of the population\n"
      ]
    },
    {
      "cell_type": "code",
      "metadata": {
        "id": "SedS-4IIjowB"
      },
      "source": [
        "df_pop_sub = df_pop[df_pop['Age_year'] >65]"
      ],
      "execution_count": 32,
      "outputs": []
    },
    {
      "cell_type": "code",
      "metadata": {
        "id": "xR6_T0C-xxmg"
      },
      "source": [
        "df_elderly = df_pop_sub[['PCON11CD', 'Age_percent']].groupby('PCON11CD').sum().reset_index()"
      ],
      "execution_count": 39,
      "outputs": []
    },
    {
      "cell_type": "markdown",
      "metadata": {
        "id": "HTd29RHSKNYu"
      },
      "source": [
        "## Merge with the main dataset"
      ]
    },
    {
      "cell_type": "code",
      "metadata": {
        "id": "KGZt7u6yjqEa"
      },
      "source": [
        "df_merge = df_merge.merge(df_elderly, left_on = 'ons_id', right_on = 'PCON11CD')"
      ],
      "execution_count": 40,
      "outputs": []
    },
    {
      "cell_type": "code",
      "metadata": {
        "id": "LB4GNAugy9tu",
        "outputId": "dce28a52-10c5-462c-b615-d1fac64ae337",
        "colab": {
          "base_uri": "https://localhost:8080/",
          "height": 343
        }
      },
      "source": [
        "df_merge.head()"
      ],
      "execution_count": 42,
      "outputs": [
        {
          "output_type": "execute_result",
          "data": {
            "text/html": [
              "<div>\n",
              "<style scoped>\n",
              "    .dataframe tbody tr th:only-of-type {\n",
              "        vertical-align: middle;\n",
              "    }\n",
              "\n",
              "    .dataframe tbody tr th {\n",
              "        vertical-align: top;\n",
              "    }\n",
              "\n",
              "    .dataframe thead th {\n",
              "        text-align: right;\n",
              "    }\n",
              "</style>\n",
              "<table border=\"1\" class=\"dataframe\">\n",
              "  <thead>\n",
              "    <tr style=\"text-align: right;\">\n",
              "      <th></th>\n",
              "      <th>ons_id</th>\n",
              "      <th>ons_region_id</th>\n",
              "      <th>constituency_name</th>\n",
              "      <th>county_name</th>\n",
              "      <th>region_name</th>\n",
              "      <th>country_name</th>\n",
              "      <th>constituency_type</th>\n",
              "      <th>declaration_time</th>\n",
              "      <th>mp_firstname</th>\n",
              "      <th>mp_surname</th>\n",
              "      <th>mp_gender</th>\n",
              "      <th>result</th>\n",
              "      <th>first_party</th>\n",
              "      <th>second_party</th>\n",
              "      <th>electorate</th>\n",
              "      <th>valid_votes</th>\n",
              "      <th>invalid_votes</th>\n",
              "      <th>majority</th>\n",
              "      <th>con</th>\n",
              "      <th>lab</th>\n",
              "      <th>ld</th>\n",
              "      <th>brexit</th>\n",
              "      <th>green</th>\n",
              "      <th>snp</th>\n",
              "      <th>pc</th>\n",
              "      <th>dup</th>\n",
              "      <th>sf</th>\n",
              "      <th>sdlp</th>\n",
              "      <th>uup</th>\n",
              "      <th>alliance</th>\n",
              "      <th>other</th>\n",
              "      <th>other_winner</th>\n",
              "      <th>mp_fullname</th>\n",
              "      <th>majority_percent</th>\n",
              "      <th>majority_rank</th>\n",
              "      <th>turnout_const</th>\n",
              "      <th>turnout_reg</th>\n",
              "      <th>turnout_uk</th>\n",
              "      <th>turnout_2017</th>\n",
              "      <th>con_pct</th>\n",
              "      <th>lab_pct</th>\n",
              "      <th>leave_pct</th>\n",
              "      <th>PCON11CD</th>\n",
              "      <th>Age_percent</th>\n",
              "    </tr>\n",
              "  </thead>\n",
              "  <tbody>\n",
              "    <tr>\n",
              "      <th>0</th>\n",
              "      <td>W07000049</td>\n",
              "      <td>W92000004</td>\n",
              "      <td>Aberavon</td>\n",
              "      <td>West Glamorgan</td>\n",
              "      <td>Wales</td>\n",
              "      <td>Wales</td>\n",
              "      <td>County</td>\n",
              "      <td>2019-12-13 02:30:00</td>\n",
              "      <td>Stephen</td>\n",
              "      <td>Kinnock</td>\n",
              "      <td>Male</td>\n",
              "      <td>Lab hold</td>\n",
              "      <td>Lab</td>\n",
              "      <td>Con</td>\n",
              "      <td>50750</td>\n",
              "      <td>31598</td>\n",
              "      <td>82</td>\n",
              "      <td>10490</td>\n",
              "      <td>6518</td>\n",
              "      <td>17008</td>\n",
              "      <td>1072</td>\n",
              "      <td>3108</td>\n",
              "      <td>450</td>\n",
              "      <td>0</td>\n",
              "      <td>2711</td>\n",
              "      <td>0</td>\n",
              "      <td>0</td>\n",
              "      <td>0</td>\n",
              "      <td>0</td>\n",
              "      <td>0</td>\n",
              "      <td>731</td>\n",
              "      <td>0</td>\n",
              "      <td>Stephen Kinnock</td>\n",
              "      <td>0.331983</td>\n",
              "      <td>209</td>\n",
              "      <td>0.622621</td>\n",
              "      <td>0.665721</td>\n",
              "      <td>0.673108</td>\n",
              "      <td>0.666800</td>\n",
              "      <td>0.206279</td>\n",
              "      <td>0.538262</td>\n",
              "      <td>0.601245</td>\n",
              "      <td>W07000049</td>\n",
              "      <td>0.185279</td>\n",
              "    </tr>\n",
              "    <tr>\n",
              "      <th>1</th>\n",
              "      <td>W07000058</td>\n",
              "      <td>W92000004</td>\n",
              "      <td>Aberconwy</td>\n",
              "      <td>Clwyd</td>\n",
              "      <td>Wales</td>\n",
              "      <td>Wales</td>\n",
              "      <td>County</td>\n",
              "      <td>2019-12-13 03:09:00</td>\n",
              "      <td>Robin</td>\n",
              "      <td>Millar</td>\n",
              "      <td>Male</td>\n",
              "      <td>Con hold</td>\n",
              "      <td>Con</td>\n",
              "      <td>Lab</td>\n",
              "      <td>44699</td>\n",
              "      <td>31865</td>\n",
              "      <td>123</td>\n",
              "      <td>2034</td>\n",
              "      <td>14687</td>\n",
              "      <td>12653</td>\n",
              "      <td>1821</td>\n",
              "      <td>0</td>\n",
              "      <td>0</td>\n",
              "      <td>0</td>\n",
              "      <td>2704</td>\n",
              "      <td>0</td>\n",
              "      <td>0</td>\n",
              "      <td>0</td>\n",
              "      <td>0</td>\n",
              "      <td>0</td>\n",
              "      <td>0</td>\n",
              "      <td>0</td>\n",
              "      <td>Robin Millar</td>\n",
              "      <td>0.063832</td>\n",
              "      <td>569</td>\n",
              "      <td>0.712879</td>\n",
              "      <td>0.665721</td>\n",
              "      <td>0.673108</td>\n",
              "      <td>0.710482</td>\n",
              "      <td>0.460913</td>\n",
              "      <td>0.397081</td>\n",
              "      <td>0.521971</td>\n",
              "      <td>W07000058</td>\n",
              "      <td>0.260642</td>\n",
              "    </tr>\n",
              "    <tr>\n",
              "      <th>2</th>\n",
              "      <td>S14000001</td>\n",
              "      <td>S92000003</td>\n",
              "      <td>Aberdeen North</td>\n",
              "      <td>Scotland</td>\n",
              "      <td>Scotland</td>\n",
              "      <td>Scotland</td>\n",
              "      <td>Borough</td>\n",
              "      <td>2019-12-13 03:13:00</td>\n",
              "      <td>Kirsty</td>\n",
              "      <td>Blackman</td>\n",
              "      <td>Female</td>\n",
              "      <td>SNP hold</td>\n",
              "      <td>SNP</td>\n",
              "      <td>Con</td>\n",
              "      <td>62489</td>\n",
              "      <td>37413</td>\n",
              "      <td>72</td>\n",
              "      <td>12670</td>\n",
              "      <td>7535</td>\n",
              "      <td>4939</td>\n",
              "      <td>2846</td>\n",
              "      <td>1008</td>\n",
              "      <td>880</td>\n",
              "      <td>20205</td>\n",
              "      <td>0</td>\n",
              "      <td>0</td>\n",
              "      <td>0</td>\n",
              "      <td>0</td>\n",
              "      <td>0</td>\n",
              "      <td>0</td>\n",
              "      <td>0</td>\n",
              "      <td>0</td>\n",
              "      <td>Kirsty Blackman</td>\n",
              "      <td>0.338652</td>\n",
              "      <td>202</td>\n",
              "      <td>0.598713</td>\n",
              "      <td>0.680736</td>\n",
              "      <td>0.673108</td>\n",
              "      <td>0.591614</td>\n",
              "      <td>0.201401</td>\n",
              "      <td>0.132013</td>\n",
              "      <td>0.430922</td>\n",
              "      <td>S14000001</td>\n",
              "      <td>0.128157</td>\n",
              "    </tr>\n",
              "    <tr>\n",
              "      <th>3</th>\n",
              "      <td>S14000002</td>\n",
              "      <td>S92000003</td>\n",
              "      <td>Aberdeen South</td>\n",
              "      <td>Scotland</td>\n",
              "      <td>Scotland</td>\n",
              "      <td>Scotland</td>\n",
              "      <td>Borough</td>\n",
              "      <td>2019-12-13 03:34:00</td>\n",
              "      <td>Stephen</td>\n",
              "      <td>Flynn</td>\n",
              "      <td>Male</td>\n",
              "      <td>SNP gain from Con</td>\n",
              "      <td>SNP</td>\n",
              "      <td>Con</td>\n",
              "      <td>65719</td>\n",
              "      <td>45638</td>\n",
              "      <td>131</td>\n",
              "      <td>3990</td>\n",
              "      <td>16398</td>\n",
              "      <td>3834</td>\n",
              "      <td>5018</td>\n",
              "      <td>0</td>\n",
              "      <td>0</td>\n",
              "      <td>20388</td>\n",
              "      <td>0</td>\n",
              "      <td>0</td>\n",
              "      <td>0</td>\n",
              "      <td>0</td>\n",
              "      <td>0</td>\n",
              "      <td>0</td>\n",
              "      <td>0</td>\n",
              "      <td>0</td>\n",
              "      <td>Stephen Flynn</td>\n",
              "      <td>0.087427</td>\n",
              "      <td>533</td>\n",
              "      <td>0.694441</td>\n",
              "      <td>0.680736</td>\n",
              "      <td>0.673108</td>\n",
              "      <td>0.684887</td>\n",
              "      <td>0.359306</td>\n",
              "      <td>0.084009</td>\n",
              "      <td>0.321431</td>\n",
              "      <td>S14000002</td>\n",
              "      <td>0.152222</td>\n",
              "    </tr>\n",
              "    <tr>\n",
              "      <th>4</th>\n",
              "      <td>S14000003</td>\n",
              "      <td>S92000003</td>\n",
              "      <td>Airdrie and Shotts</td>\n",
              "      <td>Scotland</td>\n",
              "      <td>Scotland</td>\n",
              "      <td>Scotland</td>\n",
              "      <td>County</td>\n",
              "      <td>2019-12-13 02:59:00</td>\n",
              "      <td>Neil</td>\n",
              "      <td>Gray</td>\n",
              "      <td>Male</td>\n",
              "      <td>SNP hold</td>\n",
              "      <td>SNP</td>\n",
              "      <td>Lab</td>\n",
              "      <td>64011</td>\n",
              "      <td>39772</td>\n",
              "      <td>91</td>\n",
              "      <td>5201</td>\n",
              "      <td>7011</td>\n",
              "      <td>12728</td>\n",
              "      <td>1419</td>\n",
              "      <td>0</td>\n",
              "      <td>685</td>\n",
              "      <td>17929</td>\n",
              "      <td>0</td>\n",
              "      <td>0</td>\n",
              "      <td>0</td>\n",
              "      <td>0</td>\n",
              "      <td>0</td>\n",
              "      <td>0</td>\n",
              "      <td>0</td>\n",
              "      <td>0</td>\n",
              "      <td>Neil Gray</td>\n",
              "      <td>0.130770</td>\n",
              "      <td>459</td>\n",
              "      <td>0.621331</td>\n",
              "      <td>0.680736</td>\n",
              "      <td>0.673108</td>\n",
              "      <td>0.592430</td>\n",
              "      <td>0.176280</td>\n",
              "      <td>0.320024</td>\n",
              "      <td>0.398381</td>\n",
              "      <td>S14000003</td>\n",
              "      <td>0.160167</td>\n",
              "    </tr>\n",
              "  </tbody>\n",
              "</table>\n",
              "</div>"
            ],
            "text/plain": [
              "      ons_id ons_region_id  ...   PCON11CD Age_percent\n",
              "0  W07000049     W92000004  ...  W07000049    0.185279\n",
              "1  W07000058     W92000004  ...  W07000058    0.260642\n",
              "2  S14000001     S92000003  ...  S14000001    0.128157\n",
              "3  S14000002     S92000003  ...  S14000002    0.152222\n",
              "4  S14000003     S92000003  ...  S14000003    0.160167\n",
              "\n",
              "[5 rows x 44 columns]"
            ]
          },
          "metadata": {
            "tags": []
          },
          "execution_count": 42
        }
      ]
    },
    {
      "cell_type": "markdown",
      "metadata": {
        "id": "y6Z8U5A7LRL1"
      },
      "source": [
        "# Check correlation\n",
        "\n",
        "- Let's check the correlation between `con_pct`, `lab_pct`, `leave_pct` and merged variables"
      ]
    },
    {
      "cell_type": "code",
      "metadata": {
        "id": "spYY-D_SjrGX",
        "outputId": "ad57358d-0633-40ef-dfd0-3844260978d4",
        "colab": {
          "base_uri": "https://localhost:8080/",
          "height": 419
        }
      },
      "source": [
        "df_merge.loc[:, ['con_pct', 'lab_pct', 'leave_pct', 'Age_percent']]"
      ],
      "execution_count": 45,
      "outputs": [
        {
          "output_type": "execute_result",
          "data": {
            "text/html": [
              "<div>\n",
              "<style scoped>\n",
              "    .dataframe tbody tr th:only-of-type {\n",
              "        vertical-align: middle;\n",
              "    }\n",
              "\n",
              "    .dataframe tbody tr th {\n",
              "        vertical-align: top;\n",
              "    }\n",
              "\n",
              "    .dataframe thead th {\n",
              "        text-align: right;\n",
              "    }\n",
              "</style>\n",
              "<table border=\"1\" class=\"dataframe\">\n",
              "  <thead>\n",
              "    <tr style=\"text-align: right;\">\n",
              "      <th></th>\n",
              "      <th>con_pct</th>\n",
              "      <th>lab_pct</th>\n",
              "      <th>leave_pct</th>\n",
              "      <th>Age_percent</th>\n",
              "    </tr>\n",
              "  </thead>\n",
              "  <tbody>\n",
              "    <tr>\n",
              "      <th>0</th>\n",
              "      <td>0.206279</td>\n",
              "      <td>0.538262</td>\n",
              "      <td>0.601245</td>\n",
              "      <td>0.185279</td>\n",
              "    </tr>\n",
              "    <tr>\n",
              "      <th>1</th>\n",
              "      <td>0.460913</td>\n",
              "      <td>0.397081</td>\n",
              "      <td>0.521971</td>\n",
              "      <td>0.260642</td>\n",
              "    </tr>\n",
              "    <tr>\n",
              "      <th>2</th>\n",
              "      <td>0.201401</td>\n",
              "      <td>0.132013</td>\n",
              "      <td>0.430922</td>\n",
              "      <td>0.128157</td>\n",
              "    </tr>\n",
              "    <tr>\n",
              "      <th>3</th>\n",
              "      <td>0.359306</td>\n",
              "      <td>0.084009</td>\n",
              "      <td>0.321431</td>\n",
              "      <td>0.152222</td>\n",
              "    </tr>\n",
              "    <tr>\n",
              "      <th>4</th>\n",
              "      <td>0.176280</td>\n",
              "      <td>0.320024</td>\n",
              "      <td>0.398381</td>\n",
              "      <td>0.160167</td>\n",
              "    </tr>\n",
              "    <tr>\n",
              "      <th>...</th>\n",
              "      <td>...</td>\n",
              "      <td>...</td>\n",
              "      <td>...</td>\n",
              "      <td>...</td>\n",
              "    </tr>\n",
              "    <tr>\n",
              "      <th>645</th>\n",
              "      <td>0.300699</td>\n",
              "      <td>0.532965</td>\n",
              "      <td>0.496481</td>\n",
              "      <td>0.140722</td>\n",
              "    </tr>\n",
              "    <tr>\n",
              "      <th>646</th>\n",
              "      <td>0.583665</td>\n",
              "      <td>0.063466</td>\n",
              "      <td>0.598655</td>\n",
              "      <td>0.229158</td>\n",
              "    </tr>\n",
              "    <tr>\n",
              "      <th>647</th>\n",
              "      <td>0.354536</td>\n",
              "      <td>0.300695</td>\n",
              "      <td>0.509420</td>\n",
              "      <td>0.247519</td>\n",
              "    </tr>\n",
              "    <tr>\n",
              "      <th>648</th>\n",
              "      <td>0.278093</td>\n",
              "      <td>0.551702</td>\n",
              "      <td>0.388207</td>\n",
              "      <td>0.126830</td>\n",
              "    </tr>\n",
              "    <tr>\n",
              "      <th>649</th>\n",
              "      <td>0.493685</td>\n",
              "      <td>0.313278</td>\n",
              "      <td>0.446677</td>\n",
              "      <td>0.229982</td>\n",
              "    </tr>\n",
              "  </tbody>\n",
              "</table>\n",
              "<p>650 rows × 4 columns</p>\n",
              "</div>"
            ],
            "text/plain": [
              "      con_pct   lab_pct  leave_pct  Age_percent\n",
              "0    0.206279  0.538262   0.601245     0.185279\n",
              "1    0.460913  0.397081   0.521971     0.260642\n",
              "2    0.201401  0.132013   0.430922     0.128157\n",
              "3    0.359306  0.084009   0.321431     0.152222\n",
              "4    0.176280  0.320024   0.398381     0.160167\n",
              "..        ...       ...        ...          ...\n",
              "645  0.300699  0.532965   0.496481     0.140722\n",
              "646  0.583665  0.063466   0.598655     0.229158\n",
              "647  0.354536  0.300695   0.509420     0.247519\n",
              "648  0.278093  0.551702   0.388207     0.126830\n",
              "649  0.493685  0.313278   0.446677     0.229982\n",
              "\n",
              "[650 rows x 4 columns]"
            ]
          },
          "metadata": {
            "tags": []
          },
          "execution_count": 45
        }
      ]
    },
    {
      "cell_type": "code",
      "metadata": {
        "id": "GpVHVWGRzaMi"
      },
      "source": [
        ""
      ],
      "execution_count": null,
      "outputs": []
    }
  ]
}